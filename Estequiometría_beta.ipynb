{
  "nbformat": 4,
  "nbformat_minor": 0,
  "metadata": {
    "colab": {
      "provenance": [],
      "collapsed_sections": [
        "k-xj0eIpNm-i",
        "JT9mjXwu9ya7",
        "GOkgu6vX-WZq",
        "MxkFLDA79Yjn",
        "OXjrIC0l9iAZ",
        "6dwg7tYf9Phd"
      ],
      "authorship_tag": "ABX9TyOZvJsRHY7xYcCsh1sRVfsv"
    },
    "kernelspec": {
      "name": "python3",
      "display_name": "Python 3"
    },
    "language_info": {
      "name": "python"
    }
  },
  "cells": [
    {
      "cell_type": "markdown",
      "source": [
        "# **Estequiometría**"
      ],
      "metadata": {
        "id": "k-xj0eIpNm-i"
      }
    },
    {
      "cell_type": "markdown",
      "source": [
        "Resolvedor para combustión completa, obtenido de [link text](https://chemicals.readthedocs.io/chemicals.combustion.html#heat-of-combustion-and-stiochiometry).\n",
        "\n",
        "\n",
        "---\n",
        "\n"
      ],
      "metadata": {
        "id": "mwyjzFZ8fgle"
      }
    },
    {
      "cell_type": "markdown",
      "source": [
        "# *Importación de librerías*\n"
      ],
      "metadata": {
        "id": "JT9mjXwu9ya7"
      }
    },
    {
      "cell_type": "markdown",
      "source": [
        "En primer lugar, con !pip instalamos los paquetes si Colab no los toma. Luego, debemos importar la librería chemicals, y lo hacemos con un alias. La librería cirpy la importamos sin alias."
      ],
      "metadata": {
        "id": "1cCYKyq7-DWO"
      }
    },
    {
      "cell_type": "code",
      "execution_count": null,
      "metadata": {
        "id": "By_uern-DsdG",
        "colab": {
          "base_uri": "https://localhost:8080/"
        },
        "outputId": "e0044b78-da9e-4f0a-f65d-8ef12719971a"
      },
      "outputs": [
        {
          "output_type": "stream",
          "name": "stdout",
          "text": [
            "Looking in indexes: https://pypi.org/simple, https://us-python.pkg.dev/colab-wheels/public/simple/\n",
            "Requirement already satisfied: chemicals in /usr/local/lib/python3.7/dist-packages (1.1.1)\n",
            "Requirement already satisfied: pandas in /usr/local/lib/python3.7/dist-packages (from chemicals) (1.3.5)\n",
            "Requirement already satisfied: fluids>=1.0.21 in /usr/local/lib/python3.7/dist-packages (from chemicals) (1.0.21)\n",
            "Requirement already satisfied: scipy in /usr/local/lib/python3.7/dist-packages (from chemicals) (1.4.1)\n",
            "Requirement already satisfied: numpy in /usr/local/lib/python3.7/dist-packages (from chemicals) (1.21.6)\n",
            "Requirement already satisfied: python-dateutil>=2.7.3 in /usr/local/lib/python3.7/dist-packages (from pandas->chemicals) (2.8.2)\n",
            "Requirement already satisfied: pytz>=2017.3 in /usr/local/lib/python3.7/dist-packages (from pandas->chemicals) (2022.1)\n",
            "Requirement already satisfied: six>=1.5 in /usr/local/lib/python3.7/dist-packages (from python-dateutil>=2.7.3->pandas->chemicals) (1.15.0)\n",
            "Looking in indexes: https://pypi.org/simple, https://us-python.pkg.dev/colab-wheels/public/simple/\n",
            "Requirement already satisfied: cirpy in /usr/local/lib/python3.7/dist-packages (1.0.2)\n"
          ]
        }
      ],
      "source": [
        "!pip install chemicals\n",
        "!pip install cirpy\n",
        "import chemicals as ch\n",
        "import cirpy\n",
        "import numpy as np"
      ]
    },
    {
      "cell_type": "markdown",
      "source": [
        "# *Consulta de CAS*"
      ],
      "metadata": {
        "id": "GOkgu6vX-WZq"
      }
    },
    {
      "cell_type": "markdown",
      "source": [
        "Con esto podemos hacer consultas sobre el CAS. Sin embargo, da varios valores, algunos 'deprecados' (obsoletos)."
      ],
      "metadata": {
        "id": "1C-M6B2E-rVt"
      }
    },
    {
      "cell_type": "code",
      "source": [
        "cirpy.resolve('H2O', 'cas')"
      ],
      "metadata": {
        "colab": {
          "base_uri": "https://localhost:8080/",
          "height": 167
        },
        "id": "3eE4qhwEpX_6",
        "outputId": "e871f71e-8b42-42ee-a8cd-23818924c669"
      },
      "execution_count": null,
      "outputs": [
        {
          "output_type": "error",
          "ename": "NameError",
          "evalue": "ignored",
          "traceback": [
            "\u001b[0;31m---------------------------------------------------------------------------\u001b[0m",
            "\u001b[0;31mNameError\u001b[0m                                 Traceback (most recent call last)",
            "\u001b[0;32m<ipython-input-1-fe0e9c436097>\u001b[0m in \u001b[0;36m<cell line: 1>\u001b[0;34m()\u001b[0m\n\u001b[0;32m----> 1\u001b[0;31m \u001b[0mcirpy\u001b[0m\u001b[0;34m.\u001b[0m\u001b[0mresolve\u001b[0m\u001b[0;34m(\u001b[0m\u001b[0;34m'H2O'\u001b[0m\u001b[0;34m,\u001b[0m \u001b[0;34m'cas'\u001b[0m\u001b[0;34m)\u001b[0m\u001b[0;34m\u001b[0m\u001b[0;34m\u001b[0m\u001b[0m\n\u001b[0m",
            "\u001b[0;31mNameError\u001b[0m: name 'cirpy' is not defined"
          ]
        }
      ]
    },
    {
      "cell_type": "markdown",
      "source": [
        "# *Ingreso de datos*"
      ],
      "metadata": {
        "id": "MxkFLDA79Yjn"
      }
    },
    {
      "cell_type": "markdown",
      "source": [
        "Ahora, debemos listar todos los elementos que participan de la reacción. Sea que estén en el combustible (fuel) o en el aire.\n",
        "\n",
        "De cada uno de ellos debemos dar el [identificador CAS](https://commonchemistry.cas.org/) y la cantidad de átomos de la molécula.\n",
        "\n",
        "Otros links útiles son:\n",
        "\n",
        "1.   [Springer](https://materials.springer.com/substanceprofile/docs/smsid_flvtyceefwhjkvfw)\n",
        "2.   [PubChem](https://pubchem.ncbi.nlm.nih.gov/compound/Oxygen#section=CAS)\n",
        "3.   [rsc](https://www.rsc.org/periodic-table/element/8/oxygen)\n",
        "4.   [echa.europa](https://echa.europa.eu/substance-information/-/substanceinfo/100.029.051)\n",
        "\n",
        "\n",
        "Aquí ingresamos las fracciones molares del aire y del combustible. Aunque ciertos elementos no estén presentes en el aire, debemos incluirlos en la composición molar, porque así lo pide el código."
      ],
      "metadata": {
        "id": "joXEHF8M-Je4"
      }
    },
    {
      "cell_type": "code",
      "source": [
        "nitrogen = {'name': 'nitrogen',\n",
        "            'CAS': '7727-37-9',\n",
        "            'atoms': ch.simple_formula_parser('N2'),\n",
        "            'MW': ch.molecular_weight(ch.simple_formula_parser('N2')),\n",
        "            'y_air': 0.79,\n",
        "            'y_fuel': 0.025,\n",
        "            }\n",
        "\n",
        "oxygen = {'name': 'oxygen',\n",
        "          'CAS': '7782-44-7',\n",
        "          'atoms': ch.simple_formula_parser('O2'),\n",
        "          'MW': ch.molecular_weight(ch.simple_formula_parser('O2')),\n",
        "          'y_air': 0.205,\n",
        "          'y_fuel': 0.025,\n",
        "          }\n",
        "\n",
        "water = {'name': 'water',\n",
        "         'CAS': '7732-18-5',\n",
        "         'atoms': ch.simple_formula_parser('H2O'),\n",
        "         'MW': ch.molecular_weight(ch.simple_formula_parser('H2O')),\n",
        "         'y_air': 0.0045,\n",
        "         'y_fuel': 0.0005,\n",
        "         }\n",
        "\n",
        "carbon_dioxide = {'name': 'carbon_dioxide',\n",
        "                  'CAS': '124-38-9',\n",
        "                  'atoms': ch.simple_formula_parser('CO2'),\n",
        "                  'MW': ch.molecular_weight(ch.simple_formula_parser('CO2')),\n",
        "                  'y_air': 0.0005,\n",
        "                  'y_fuel': 0.0005,\n",
        "                  }\n",
        "\n",
        "methane = {'name': 'methane',\n",
        "           'CAS': '74-82-8',\n",
        "           'atoms': ch.simple_formula_parser('CH4'),\n",
        "           'MW': ch.molecular_weight(ch.simple_formula_parser('CH4')),\n",
        "           'y_air': 0,\n",
        "           'y_fuel': 0.85,\n",
        "           }\n",
        "\n",
        "ethane = {'name': 'ethane',\n",
        "          'CAS': '74-84-0',\n",
        "          'atoms': ch.simple_formula_parser('C2H6'),\n",
        "          'MW': ch.molecular_weight(ch.simple_formula_parser('C2H6')),\n",
        "          'y_air': 0,\n",
        "          'y_fuel': 0.07,\n",
        "          }\n",
        "\n",
        "propane = {'name': 'propane',\n",
        "           'CAS' : '74-98-6',\n",
        "           'atoms': ch.simple_formula_parser('C3H8'),\n",
        "           'MW': ch.molecular_weight(ch.simple_formula_parser('C3H8')),\n",
        "           'y_air': 0,\n",
        "           'y_fuel': 0.029,\n",
        "           }\n",
        "\n",
        "substances = [nitrogen, oxygen, water, carbon_dioxide, methane, ethane, propane]\n",
        "\n",
        "names = [substances[i]['name'] for i in range(len(substances))]\n",
        "MW = [substances[i]['MW'] for i in range(len(substances))]\n",
        "CAS = [substances[i]['CAS'] for i in range(len(substances))]\n",
        "atoms = [substances[i]['atoms'] for i in range(len(substances))]\n",
        "zs_air = [substances[i]['y_air'] for i in range(len(substances))]\n",
        "zs_fuel = [substances[i]['y_fuel'] for i in range(len(substances))]"
      ],
      "metadata": {
        "id": "PPFga0nMNYu8"
      },
      "execution_count": null,
      "outputs": []
    },
    {
      "cell_type": "markdown",
      "source": [
        "Para concluir la carga de datos, debemos dar o bien variables intensivas, o bien variables extensivas. Elegimos el caudal de combustible y el exceso de aire utilizado."
      ],
      "metadata": {
        "id": "uO_5Yegc1Q8Z"
      }
    },
    {
      "cell_type": "code",
      "source": [
        "n_fuel = 1.0     #Caudal molar en mol/s. Podemos cambiar la base para ponerlo en kg.\n",
        "O2_excess = 0.15  #Exceso de aire."
      ],
      "metadata": {
        "id": "04QHLnFT1RMc"
      },
      "execution_count": null,
      "outputs": []
    },
    {
      "cell_type": "markdown",
      "source": [
        "# *Resolvedor*"
      ],
      "metadata": {
        "id": "OXjrIC0l9iAZ"
      }
    },
    {
      "cell_type": "markdown",
      "source": [
        "Ejecutamos la resolución."
      ],
      "metadata": {
        "id": "KWcb425I2QQT"
      }
    },
    {
      "cell_type": "code",
      "source": [
        "ans = ch.fuel_air_spec_solver(zs_air = zs_air,\n",
        "                              zs_fuel = zs_fuel,\n",
        "                              CASs = CAS,\n",
        "                              atomss = atoms,\n",
        "                              n_fuel = n_fuel,\n",
        "                              O2_excess = O2_excess)\n",
        "\n",
        "MW_air = np.dot(np.array(MW), np.array(zs_air))\n",
        "MW_fuel = np.dot(np.array(MW), np.array(zs_fuel))\n",
        "MW_gases = np.dot(np.array(MW), np.array(ans['zs_out']))"
      ],
      "metadata": {
        "id": "5h9fANqxjWvL"
      },
      "execution_count": null,
      "outputs": []
    },
    {
      "cell_type": "markdown",
      "source": [
        "# *Resultados*"
      ],
      "metadata": {
        "id": "6dwg7tYf9Phd"
      }
    },
    {
      "cell_type": "markdown",
      "source": [
        "Las zs son las fracciones molares de los gases de combustión (en base húmeda). Usa el orden que establecimos más arriba.\n",
        "```\n",
        "zs_gases = [gases['nitrogen'],\n",
        "            gases['oxygen'],\n",
        "            gases['water'],\n",
        "            gases['carbon_dioxide'],\n",
        "            gases['methane'],\n",
        "            gases['ethane'],\n",
        "            gases['propane'],\n",
        "           ]\n",
        "```\n",
        "\n"
      ],
      "metadata": {
        "id": "gqhWXAFl2XMp"
      }
    },
    {
      "cell_type": "code",
      "source": [
        "[round(i, 5) for i in ans['zs_out']] #Redondeamos las fracciones molares de los gases de combustión."
      ],
      "metadata": {
        "colab": {
          "base_uri": "https://localhost:8080/"
        },
        "id": "XB0rYi30jRN6",
        "outputId": "5fad38f9-e441-4378-ed9a-c2f4187985aa"
      },
      "execution_count": null,
      "outputs": [
        {
          "output_type": "execute_result",
          "data": {
            "text/plain": [
              "[0.72561, 0.02475, 0.16411, 0.08553, 0.0, 0.0, 0.0]"
            ]
          },
          "metadata": {},
          "execution_count": 17
        }
      ]
    },
    {
      "cell_type": "markdown",
      "source": [
        "Obtenemos la fracción molar del oxígeno en los gases de combustión, tanto en base húmeda como en base seca."
      ],
      "metadata": {
        "id": "636Ba6mu7uwa"
      }
    },
    {
      "cell_type": "code",
      "source": [
        "round(ans['frac_out_O2'],5), round(ans['frac_out_O2_dry'],5)"
      ],
      "metadata": {
        "colab": {
          "base_uri": "https://localhost:8080/"
        },
        "id": "xNd63F-ijTP5",
        "outputId": "2a81fbc7-0237-45f0-a77f-32e0395a9ec4"
      },
      "execution_count": null,
      "outputs": [
        {
          "output_type": "execute_result",
          "data": {
            "text/plain": [
              "(0.02475, 0.02961)"
            ]
          },
          "metadata": {},
          "execution_count": 18
        }
      ]
    },
    {
      "cell_type": "markdown",
      "source": [
        "Obtenemos el caudal molar de aire necesario para realizar la combustión completa del caudal molar de combustible ingresado."
      ],
      "metadata": {
        "id": "mLv2gcUc8G7x"
      }
    },
    {
      "cell_type": "code",
      "source": [
        "ans['n_air']"
      ],
      "metadata": {
        "colab": {
          "base_uri": "https://localhost:8080/"
        },
        "id": "zMJNLDye3_9X",
        "outputId": "01025c2a-592b-437a-c190-56c072c458e3"
      },
      "execution_count": null,
      "outputs": [
        {
          "output_type": "execute_result",
          "data": {
            "text/plain": [
              "11.602439024390247"
            ]
          },
          "metadata": {},
          "execution_count": 19
        }
      ]
    },
    {
      "cell_type": "markdown",
      "source": [
        "Obtenemos el caudal molar de los gases de combustión húmedos."
      ],
      "metadata": {
        "id": "2E26Khx28XfV"
      }
    },
    {
      "cell_type": "code",
      "source": [
        "[round(i, 5) for i in ans['ns_out']]"
      ],
      "metadata": {
        "colab": {
          "base_uri": "https://localhost:8080/"
        },
        "id": "UcoLHL7F4J2G",
        "outputId": "173cbfdb-b136-4420-cc99-610d5653bb84"
      },
      "execution_count": null,
      "outputs": [
        {
          "output_type": "execute_result",
          "data": {
            "text/plain": [
              "[9.19093, 0.3135, 2.07871, 1.0833, 0.0, 0.0, 0.0]"
            ]
          },
          "metadata": {},
          "execution_count": 20
        }
      ]
    },
    {
      "cell_type": "markdown",
      "source": [
        "Obtenemos las masas molares del aire, del combustible y de los gases húmedos."
      ],
      "metadata": {
        "id": "Kr8pM6VZW_cj"
      }
    },
    {
      "cell_type": "code",
      "source": [
        "round(MW_air,2), round(MW_fuel,2), round(MW_gases,2)"
      ],
      "metadata": {
        "colab": {
          "base_uri": "https://localhost:8080/"
        },
        "id": "rHVqUxRzVNL1",
        "outputId": "25b4c77a-5a6b-42eb-b267-a52fbfdae608"
      },
      "execution_count": null,
      "outputs": [
        {
          "output_type": "execute_result",
          "data": {
            "text/plain": [
              "(28.79, 18.55, 27.84)"
            ]
          },
          "metadata": {},
          "execution_count": 21
        }
      ]
    }
  ]
}