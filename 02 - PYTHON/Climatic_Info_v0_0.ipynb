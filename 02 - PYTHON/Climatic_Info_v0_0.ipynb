{
  "nbformat": 4,
  "nbformat_minor": 0,
  "metadata": {
    "colab": {
      "provenance": []
    },
    "kernelspec": {
      "name": "python3",
      "display_name": "Python 3"
    },
    "language_info": {
      "name": "python"
    }
  },
  "cells": [
    {
      "cell_type": "markdown",
      "source": [
        "# **Información climática**"
      ],
      "metadata": {
        "id": "k-xj0eIpNm-i"
      }
    },
    {
      "cell_type": "markdown",
      "source": [
        "Resolvedor para información climática, obtenido de [la librería fluids](https://fluids.readthedocs.io/tutorial.html#atmospheric-properties).\n",
        "\n",
        "Versión: 0.0.\n",
        "Fecha: 2022-07-12.\n",
        "Realizó: PMB.\n",
        "\n",
        "Concepto:\n",
        "\n",
        "Son herramientas para estimar la radiación solar sobre una superficie (directa, difusa, reflejada, etc.)\n",
        "\n",
        "Mejoras para realizar:\n",
        "-\n",
        "Entender la librería [pvlib](https://pvlib-python.readthedocs.io/en/stable/user_guide/clearsky.html).\n",
        "\n",
        "---"
      ],
      "metadata": {
        "id": "mwyjzFZ8fgle"
      }
    },
    {
      "cell_type": "markdown",
      "source": [
        "# *Importación de librerías*\n"
      ],
      "metadata": {
        "id": "JT9mjXwu9ya7"
      }
    },
    {
      "cell_type": "markdown",
      "source": [
        "En primer lugar, con !pip instalamos los paquetes si Colab no los toma."
      ],
      "metadata": {
        "id": "1cCYKyq7-DWO"
      }
    },
    {
      "cell_type": "code",
      "source": [
        "!pip install fluids\n",
        "!pip install pytz"
      ],
      "metadata": {
        "id": "Nh-LdY_4dncS",
        "outputId": "c3c2ee90-ba9e-4acb-b2bd-5016a4d18ca1",
        "colab": {
          "base_uri": "https://localhost:8080/"
        }
      },
      "execution_count": null,
      "outputs": [
        {
          "output_type": "stream",
          "name": "stdout",
          "text": [
            "Collecting fluids\n",
            "  Downloading fluids-1.0.25-py3-none-any.whl (1.5 MB)\n",
            "\u001b[2K     \u001b[90m━━━━━━━━━━━━━━━━━━━━━━━━━━━━━━━━━━━━━━━━\u001b[0m \u001b[32m1.5/1.5 MB\u001b[0m \u001b[31m9.7 MB/s\u001b[0m eta \u001b[36m0:00:00\u001b[0m\n",
            "\u001b[?25hRequirement already satisfied: numpy>=1.5.0 in /usr/local/lib/python3.10/dist-packages (from fluids) (1.23.5)\n",
            "Requirement already satisfied: scipy>=0.9.0 in /usr/local/lib/python3.10/dist-packages (from fluids) (1.11.3)\n",
            "Installing collected packages: fluids\n",
            "Successfully installed fluids-1.0.25\n",
            "Requirement already satisfied: pytz in /usr/local/lib/python3.10/dist-packages (2023.3.post1)\n"
          ]
        }
      ]
    },
    {
      "cell_type": "markdown",
      "source": [
        "Luego, debemos importar las librerías que utilizamos. Algunas con alias, otras sin."
      ],
      "metadata": {
        "id": "yww2z57krsPa"
      }
    },
    {
      "cell_type": "code",
      "execution_count": null,
      "metadata": {
        "id": "By_uern-DsdG"
      },
      "outputs": [],
      "source": [
        "import fluids as fl\n",
        "import numpy as np\n",
        "import pytz\n",
        "from datetime import datetime, timedelta"
      ]
    },
    {
      "cell_type": "markdown",
      "source": [
        "# *Ingreso de datos*"
      ],
      "metadata": {
        "id": "MxkFLDA79Yjn"
      }
    },
    {
      "cell_type": "markdown",
      "source": [
        "Ingresamos los datos de altura sobre el nivel del mar, de latitud y longitud del sitio, de la turbidez de linke (1 para cielo limpio sin polución, y despejado) y el ángulo de tilt de la superficie, que entendemos que es 0° para una superficie horizontal."
      ],
      "metadata": {
        "id": "joXEHF8M-Je4"
      }
    },
    {
      "cell_type": "markdown",
      "source": [
        "Para concluir la carga de datos, debemos dar o bien variables intensivas, o bien variables extensivas. Elegimos el caudal de combustible y el exceso de aire utilizado."
      ],
      "metadata": {
        "id": "uO_5Yegc1Q8Z"
      }
    },
    {
      "cell_type": "code",
      "source": [
        "z = 4832.5 # height\n",
        "lat = -24.19206\n",
        "lon = -66.47483\n",
        "linke_turbidity = 1\n",
        "surface_tilt = 0 # Si es 90°, entiendo que es una superficie vertical\n",
        "surface_azimuth = 0\n",
        "albedo = 0.4"
      ],
      "metadata": {
        "id": "CB6MyQAYdLJu"
      },
      "execution_count": null,
      "outputs": []
    },
    {
      "cell_type": "markdown",
      "source": [
        "# *Cálculo*"
      ],
      "metadata": {
        "id": "ijRr_RZfsI2D"
      }
    },
    {
      "cell_type": "markdown",
      "source": [
        "Obtenemos una presión atmosférica promedio para una determinada altura sobre el nivel del mar."
      ],
      "metadata": {
        "id": "hpRJMNNisMlp"
      }
    },
    {
      "cell_type": "code",
      "source": [
        "atm = fl.ATMOSPHERE_1976(Z=z)\n",
        "pressure = atm.P\n",
        "print(pressure / 1000) # en kPa(a)"
      ],
      "metadata": {
        "id": "DD9KpYwEbVC7",
        "colab": {
          "base_uri": "https://localhost:8080/"
        },
        "outputId": "709034e1-86e3-4942-a8cf-a07709869a7f"
      },
      "execution_count": null,
      "outputs": [
        {
          "output_type": "stream",
          "name": "stdout",
          "text": [
            "55.26706281956152\n"
          ]
        }
      ]
    },
    {
      "cell_type": "markdown",
      "source": [
        "Ahora lo que hacemos es usar un modelo más detallado, en el cual recorremos desde el día 1 (ojo que Python es zero-indented) hasta el 365 la presión atmosférica, y luego la promediamos."
      ],
      "metadata": {
        "id": "jn7hA548sTQK"
      }
    },
    {
      "cell_type": "code",
      "source": [
        "p = np.zeros(365)\n",
        "for j in range(len(p)):\n",
        "  atm = fl.ATMOSPHERE_NRLMSISE00(Z=z, latitude=lat, longitude=lon, day=1+j)\n",
        "  p[j] = atm.P\n",
        "pressure = np.mean(p) # en Pa(a)\n",
        "print(pressure / 1000) # en kPa(a)"
      ],
      "metadata": {
        "colab": {
          "base_uri": "https://localhost:8080/"
        },
        "id": "vtg82N3Qb7jA",
        "outputId": "13dfcb14-4302-4460-f0bf-9f0b39e51e8e"
      },
      "execution_count": null,
      "outputs": [
        {
          "output_type": "stream",
          "name": "stdout",
          "text": [
            "56.07124267708999\n"
          ]
        }
      ]
    },
    {
      "cell_type": "markdown",
      "source": [
        "Ahora calculamos la irradiancia solar.\n",
        "\n",
        "El primer valor que se retorna es la irradiación solar que incide sobre el objeto, en W/m2. Los siguientes dos valores son las componentes de esta radiación, los cuales provienen 1) directamente desde el sol y 2) difusamente, luego de reflejarse desde algún otro objeto. Los dos valores finales parten a este último valor (luz difusa) entre 3) una componente reflejada únicamente en el cielo y las nubes y 4) una componente ocasionada por el albedo terrestre, rebotando desde la superficie, luego el cielo, antes de incidir sobre el objeto -la superficie."
      ],
      "metadata": {
        "id": "EbSaetVzskpo"
      }
    },
    {
      "cell_type": "code",
      "source": [
        "for j in range(12):\n",
        "  Sol_Irr = fl.solar_irradiation(\n",
        "                               Z=z,\n",
        "                               latitude=lat,\n",
        "                               longitude=lon,\n",
        "                               linke_turbidity=linke_turbidity,\n",
        "                               moment=pytz.timezone('America/Argentina/Salta').localize(datetime(2022, j+1, 1, 12, 0, 0)),\n",
        "                               surface_tilt=surface_tilt,\n",
        "                               surface_azimuth=surface_azimuth,\n",
        "                               albedo=albedo\n",
        "                               )\n",
        "  print(Sol_Irr[1])\n",
        "# pytz.all_timezones ---> con esto sabemos la lista de zonas.\n",
        "#print(Sol_Irr)"
      ],
      "metadata": {
        "id": "pxi9U5LFlb6Y",
        "colab": {
          "base_uri": "https://localhost:8080/"
        },
        "outputId": "a47a22e2-13ec-481b-d4c4-8ecf8a4ec041"
      },
      "execution_count": null,
      "outputs": [
        {
          "output_type": "stream",
          "name": "stdout",
          "text": [
            "1231.0938015229372\n",
            "1197.8514464688333\n",
            "1151.3079585065896\n",
            "1060.6314715038307\n",
            "940.995873027644\n",
            "834.9338284787458\n",
            "808.4582747223319\n",
            "884.1854157457058\n",
            "1028.4819520320361\n",
            "1163.9967803502684\n",
            "1243.0035843164442\n",
            "1254.4289665208355\n"
          ]
        }
      ]
    },
    {
      "cell_type": "markdown",
      "source": [
        "Con esto saco la irradiación directa a la horizontal, y la comparo contra la que dice HAP para Antofagasta, y con eso saco el factor por el que tengo que multiplicar a lo de HAP."
      ],
      "metadata": {
        "id": "tWh0e6mVx7zi"
      }
    }
  ]
}