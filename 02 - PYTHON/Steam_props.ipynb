{
  "nbformat": 4,
  "nbformat_minor": 0,
  "metadata": {
    "colab": {
      "provenance": [],
      "authorship_tag": "ABX9TyMFxoIIt6gmegxD5Eu2X7Yl",
      "include_colab_link": true
    },
    "kernelspec": {
      "name": "python3",
      "display_name": "Python 3"
    },
    "language_info": {
      "name": "python"
    }
  },
  "cells": [
    {
      "cell_type": "markdown",
      "metadata": {
        "id": "view-in-github",
        "colab_type": "text"
      },
      "source": [
        "<a href=\"https://colab.research.google.com/github/PabloMBarral/Technology-of-Heat/blob/main/Steam_props.ipynb\" target=\"_parent\"><img src=\"https://colab.research.google.com/assets/colab-badge.svg\" alt=\"Open In Colab\"/></a>"
      ]
    },
    {
      "cell_type": "code",
      "execution_count": null,
      "metadata": {
        "id": "2oaKLDMjxelJ"
      },
      "outputs": [],
      "source": [
        "# Esto se corre una sola vez.\n",
        "\n",
        "!pip install CoolProp\n",
        "import CoolProp.CoolProp as cp"
      ]
    },
    {
      "cell_type": "code",
      "source": [
        "# Esto puede correrse múltiples veces:\n",
        "\n",
        "# Definir las variables de entrada\n",
        "presion = 1.5  # Presión en [MPa]\n",
        "temperatura = 250  # Temperatura en [°C]\n",
        "\n",
        "# Obtener las propiedades del vapor de agua\n",
        "densidad = cp.PropsSI('D', 'P', presion * 1e6, 'T', temperatura + 273.15, 'Water')  # Densidad en [kg/m³]\n",
        "entalpia = cp.PropsSI('H', 'P', presion * 1e6, 'T', temperatura + 273.15, 'Water')  # Entalpía en [J/kg]\n",
        "entropia = cp.PropsSI('S', 'P', presion * 1e6, 'T', temperatura + 273.15, 'Water')  # Entropía en [J/(kg·K)]\n",
        "viscosidad = cp.PropsSI('V', 'P', presion * 1e6, 'T', temperatura + 273.15, 'Water')  # Viscosidad en [Pa·s]\n",
        "conductividad_termica = cp.PropsSI('L', 'P', presion * 1e6, 'T', temperatura + 273.15, 'Water')  # Conductividad térmica en [W/(m·K)]\n",
        "\n",
        "# Imprimir las propiedades\n",
        "print(\"Propiedades del vapor de agua:\")\n",
        "print(\"Densidad:\", densidad, \"kg/m³\")\n",
        "print(\"Entalpía:\", entalpia, \"J/kg\")\n",
        "print(\"Entropía:\", entropia, \"J/(kg·K)\")\n",
        "print(\"Viscosidad:\", viscosidad, \"Pa·s\")\n",
        "print(\"Conductividad térmica:\", conductividad_termica, \"W/(m·K)\")"
      ],
      "metadata": {
        "colab": {
          "base_uri": "https://localhost:8080/"
        },
        "id": "-U0AVqe2yRyp",
        "outputId": "66184f72-b991-4c52-ea6f-6ca04a7fbd35"
      },
      "execution_count": null,
      "outputs": [
        {
          "output_type": "stream",
          "name": "stdout",
          "text": [
            "Propiedades del vapor de agua:\n",
            "Densidad: 6.578466275550189 kg/m³\n",
            "Entalpía: 2923910.853019336 J/kg\n",
            "Entropía: 6711.062358369582 J/(kg·K)\n",
            "Viscosidad: 1.795288177549338e-05 Pa·s\n",
            "Conductividad térmica: 0.04175929617052767 W/(m·K)\n"
          ]
        }
      ]
    }
  ]
}