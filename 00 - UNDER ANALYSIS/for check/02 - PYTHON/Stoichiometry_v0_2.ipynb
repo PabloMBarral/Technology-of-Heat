{
  "nbformat": 4,
  "nbformat_minor": 0,
  "metadata": {
    "colab": {
      "provenance": [],
      "collapsed_sections": [
        "GOkgu6vX-WZq",
        "OXjrIC0l9iAZ"
      ],
      "authorship_tag": "ABX9TyPzKNU48kHuUmVDwXhhJQ0R"
    },
    "kernelspec": {
      "name": "python3",
      "display_name": "Python 3"
    },
    "language_info": {
      "name": "python"
    }
  },
  "cells": [
    {
      "cell_type": "markdown",
      "source": [
        "# **Estequiometría**"
      ],
      "metadata": {
        "id": "k-xj0eIpNm-i"
      }
    },
    {
      "cell_type": "markdown",
      "source": [
        "Resolvedor para combustión completa, obtenido de [link text](https://chemicals.readthedocs.io/chemicals.combustion.html#heat-of-combustion-and-stiochiometry).\n",
        "\n",
        "Versión: 0.1.\n",
        "Fecha: 2022-06-25.\n",
        "Realizó: PMB.\n",
        "\n",
        "Concepto:\n",
        "\n",
        "Si bien me gustaría que pudiera computar el argón, vale la pena tener lista la herramienta, aunque sea simple, para cálculos sencillos. También puedo tener las dos herramientas en paralelo.\n",
        "\n",
        "Mejoras para realizar:\n",
        "\n",
        "1) Reescribir para que pueda tomar al Argón en la cuenta. Sea modificando este, haciendo un parche, o reescribiendo la estequiometría desde cero.\n",
        "\n",
        "1bis) Hacer un conversor de fracciones molares a másicas, y de másicas a molares. Para esto debemos cambiar la forma en la que ingresamos los datos, y además debemos precalcular la masa molar, tanto del aire como del gas natural.\n",
        "\n",
        "2) Reescribir para tomar datos de un Excel. Composiciones molares y caudales molares. Pensar bien las formas en que le cargo los datos.\n",
        "\n",
        "3) Reescribir para volcar datos en un Excel. Composiciones molares y caudales molares. Ver cómo genero distintas salidas.\n",
        "\n",
        "4) Incorporar los siguientes componentes:\n",
        "\n",
        "- Argón\n",
        "- H2 (habilitar para combustión incompleta, como parte del combustible ya figura.)\n",
        "- CO (habilitar para combustión incompleta, como parte del combustible ya figura.)\n",
        "- NOx (habilitar para combustión incompleta)\n",
        "\n",
        "5) Hacer una estequiometría para combustibles líquidos y sólidos, en donde la forma de expresar la composición es distinta.\n",
        "\n",
        "---"
      ],
      "metadata": {
        "id": "mwyjzFZ8fgle"
      }
    },
    {
      "cell_type": "markdown",
      "source": [
        "# *Importación de librerías*\n"
      ],
      "metadata": {
        "id": "JT9mjXwu9ya7"
      }
    },
    {
      "cell_type": "markdown",
      "source": [
        "En primer lugar, con !pip instalamos los paquetes si Colab no los toma. Luego, debemos importar la librería chemicals, y lo hacemos con un alias. La librería cirpy la importamos sin alias."
      ],
      "metadata": {
        "id": "1cCYKyq7-DWO"
      }
    },
    {
      "cell_type": "code",
      "execution_count": null,
      "metadata": {
        "id": "By_uern-DsdG",
        "colab": {
          "base_uri": "https://localhost:8080/"
        },
        "outputId": "b0a912d5-8096-47c9-9053-89accdaeae7c"
      },
      "outputs": [
        {
          "output_type": "stream",
          "name": "stdout",
          "text": [
            "Looking in indexes: https://pypi.org/simple, https://us-python.pkg.dev/colab-wheels/public/simple/\n",
            "Collecting chemicals\n",
            "  Downloading chemicals-1.1.4-py3-none-any.whl (23.6 MB)\n",
            "\u001b[2K     \u001b[90m━━━━━━━━━━━━━━━━━━━━━━━━━━━━━━━━━━━━━━━━\u001b[0m \u001b[32m23.6/23.6 MB\u001b[0m \u001b[31m26.1 MB/s\u001b[0m eta \u001b[36m0:00:00\u001b[0m\n",
            "\u001b[?25hCollecting fluids>=1.0.23 (from chemicals)\n",
            "  Downloading fluids-1.0.24-py3-none-any.whl (1.5 MB)\n",
            "\u001b[2K     \u001b[90m━━━━━━━━━━━━━━━━━━━━━━━━━━━━━━━━━━━━━━━━\u001b[0m \u001b[32m1.5/1.5 MB\u001b[0m \u001b[31m61.9 MB/s\u001b[0m eta \u001b[36m0:00:00\u001b[0m\n",
            "\u001b[?25hRequirement already satisfied: scipy in /usr/local/lib/python3.10/dist-packages (from chemicals) (1.10.1)\n",
            "Requirement already satisfied: numpy in /usr/local/lib/python3.10/dist-packages (from chemicals) (1.22.4)\n",
            "Requirement already satisfied: pandas in /usr/local/lib/python3.10/dist-packages (from chemicals) (1.5.3)\n",
            "Requirement already satisfied: python-dateutil>=2.8.1 in /usr/local/lib/python3.10/dist-packages (from pandas->chemicals) (2.8.2)\n",
            "Requirement already satisfied: pytz>=2020.1 in /usr/local/lib/python3.10/dist-packages (from pandas->chemicals) (2022.7.1)\n",
            "Requirement already satisfied: six>=1.5 in /usr/local/lib/python3.10/dist-packages (from python-dateutil>=2.8.1->pandas->chemicals) (1.16.0)\n",
            "Installing collected packages: fluids, chemicals\n",
            "Successfully installed chemicals-1.1.4 fluids-1.0.24\n",
            "Looking in indexes: https://pypi.org/simple, https://us-python.pkg.dev/colab-wheels/public/simple/\n",
            "Collecting cirpy\n",
            "  Downloading CIRpy-1.0.2.tar.gz (20 kB)\n",
            "  Preparing metadata (setup.py) ... \u001b[?25l\u001b[?25hdone\n",
            "Building wheels for collected packages: cirpy\n",
            "  Building wheel for cirpy (setup.py) ... \u001b[?25l\u001b[?25hdone\n",
            "  Created wheel for cirpy: filename=CIRpy-1.0.2-py3-none-any.whl size=7263 sha256=ba237d53c8076f9d0aac7ba6a3c92111ffffc4b530249ec3eae02477d2cd1cf3\n",
            "  Stored in directory: /root/.cache/pip/wheels/c7/35/2b/f5d2226974fb5b1e84d53eda475d8b33a38548a6b25e32c2c0\n",
            "Successfully built cirpy\n",
            "Installing collected packages: cirpy\n",
            "Successfully installed cirpy-1.0.2\n"
          ]
        }
      ],
      "source": [
        "!pip install chemicals\n",
        "!pip install cirpy\n",
        "import chemicals as ch\n",
        "import cirpy\n",
        "import numpy as np"
      ]
    },
    {
      "cell_type": "markdown",
      "source": [
        "# *Consulta de CAS*"
      ],
      "metadata": {
        "id": "GOkgu6vX-WZq"
      }
    },
    {
      "cell_type": "markdown",
      "source": [
        "Con esto podemos hacer consultas sobre el CAS. Sin embargo, da varios valores, algunos 'deprecados' (obsoletos)."
      ],
      "metadata": {
        "id": "1C-M6B2E-rVt"
      }
    },
    {
      "cell_type": "code",
      "source": [
        "cirpy.resolve('H2O', 'cas')"
      ],
      "metadata": {
        "colab": {
          "base_uri": "https://localhost:8080/"
        },
        "id": "3eE4qhwEpX_6",
        "outputId": "4db38dfb-2ac5-4e1e-ca5d-15ad025e9187"
      },
      "execution_count": null,
      "outputs": [
        {
          "output_type": "execute_result",
          "data": {
            "text/plain": [
              "['14314-42-2', '558440-22-5', '13670-17-2', '7732-18-5', '17778-80-2']"
            ]
          },
          "metadata": {},
          "execution_count": 2
        }
      ]
    },
    {
      "cell_type": "markdown",
      "source": [
        "# *Ingreso de datos*"
      ],
      "metadata": {
        "id": "MxkFLDA79Yjn"
      }
    },
    {
      "cell_type": "markdown",
      "source": [
        "Ahora, debemos listar todos los elementos que participan de la reacción. Sea que estén en el combustible (fuel) o en el aire.\n",
        "\n",
        "De cada uno de ellos debemos dar el [identificador CAS](https://commonchemistry.cas.org/) y la cantidad de átomos de la molécula.\n",
        "\n",
        "Otros links útiles son:\n",
        "\n",
        "1.   [Springer](https://materials.springer.com/substanceprofile/docs/smsid_flvtyceefwhjkvfw)\n",
        "2.   [PubChem](https://pubchem.ncbi.nlm.nih.gov/compound/Oxygen#section=CAS)\n",
        "3.   [rsc](https://www.rsc.org/periodic-table/element/8/oxygen)\n",
        "4.   [echa.europa](https://echa.europa.eu/substance-information/-/substanceinfo/100.029.051)\n",
        "\n",
        "\n",
        "Aquí ingresamos las fracciones molares del aire y del combustible. Aunque ciertos elementos no estén presentes en el aire, debemos incluirlos en la composición molar, porque así lo pide el código."
      ],
      "metadata": {
        "id": "joXEHF8M-Je4"
      }
    },
    {
      "cell_type": "code",
      "source": [
        "nitrogen = {'name': 'nitrogen',\n",
        "            'CAS': '7727-37-9',\n",
        "            'atoms': ch.simple_formula_parser('N2'),\n",
        "            'MW': ch.molecular_weight(ch.simple_formula_parser('N2')),\n",
        "            'y_air': 0.79,\n",
        "            'y_fuel': 0.0342,\n",
        "            }\n",
        "\n",
        "oxygen = {'name': 'oxygen',\n",
        "          'CAS': '7782-44-7',\n",
        "          'atoms': ch.simple_formula_parser('O2'),\n",
        "          'MW': ch.molecular_weight(ch.simple_formula_parser('O2')),\n",
        "          'y_air': 0.21,\n",
        "          'y_fuel': 0,\n",
        "          }\n",
        "\n",
        "water = {'name': 'water',\n",
        "         'CAS': '7732-18-5',\n",
        "         'atoms': ch.simple_formula_parser('H2O'),\n",
        "         'MW': ch.molecular_weight(ch.simple_formula_parser('H2O')),\n",
        "         'y_air': 0.0,\n",
        "         'y_fuel': 0,\n",
        "         }\n",
        "\n",
        "carbon_dioxide = {'name': 'carbon dioxide',\n",
        "                  'CAS': '124-38-9',\n",
        "                  'atoms': ch.simple_formula_parser('CO2'),\n",
        "                  'MW': ch.molecular_weight(ch.simple_formula_parser('CO2')),\n",
        "                  'y_air': 0.0,\n",
        "                  'y_fuel': 0.0024,\n",
        "                  }\n",
        "\n",
        "#argon = {'name': 'argon',\n",
        "#          'CAS': '7440-37-1',\n",
        "#          'atoms': ch.simple_formula_parser('Ar'),\n",
        "#          'MW': ch.molecular_weight(ch.simple_formula_parser('Ar')),\n",
        "#          'y_air': 0,\n",
        "#          'y_fuel': 0,\n",
        "#          }\n",
        "\n",
        "methane = {'name': 'methane',\n",
        "           'CAS': '74-82-8',\n",
        "           'atoms': ch.simple_formula_parser('CH4'),\n",
        "           'MW': ch.molecular_weight(ch.simple_formula_parser('CH4')),\n",
        "           'y_air': 0,\n",
        "           'y_fuel': 0.9008,\n",
        "           }\n",
        "\n",
        "ethane = {'name': 'ethane',\n",
        "          'CAS': '74-84-0',\n",
        "          'atoms': ch.simple_formula_parser('C2H6'),\n",
        "          'MW': ch.molecular_weight(ch.simple_formula_parser('C2H6')),\n",
        "          'y_air': 0,\n",
        "          'y_fuel': 0.0473,\n",
        "          }\n",
        "\n",
        "propane = {'name': 'propane',\n",
        "           'CAS' : '74-98-6',\n",
        "           'atoms': ch.simple_formula_parser('C3H8'),\n",
        "           'MW': ch.molecular_weight(ch.simple_formula_parser('C3H8')),\n",
        "           'y_air': 0,\n",
        "           'y_fuel': 0.0123,\n",
        "           }\n",
        "\n",
        "n_butane = {'name': 'n-butane',\n",
        "           'CAS' : '106-97-8',\n",
        "           'atoms': ch.simple_formula_parser('C4H10'),\n",
        "           'MW': ch.molecular_weight(ch.simple_formula_parser('C4H10')),\n",
        "           'y_air': 0,\n",
        "           'y_fuel': 0.0024,\n",
        "           }\n",
        "\n",
        "n_pentane = {'name': 'n-pentane',\n",
        "           'CAS' : '109-66-0',\n",
        "           'atoms': ch.simple_formula_parser('C5H12'),\n",
        "           'MW': ch.molecular_weight(ch.simple_formula_parser('C5H12')),\n",
        "           'y_air': 0,\n",
        "           'y_fuel': 0.0006,\n",
        "           }\n",
        "\n",
        "n_hexane = {'name': 'n-hexane',\n",
        "           'CAS' : '110-54-3',\n",
        "           'atoms': ch.simple_formula_parser('C6H14'),\n",
        "           'MW': ch.molecular_weight(ch.simple_formula_parser('C6H14')),\n",
        "           'y_air': 0,\n",
        "           'y_fuel': 0.,\n",
        "           }\n",
        "\n",
        "n_heptane = {'name': 'n-heptane',\n",
        "           'CAS' : '142-82-5',\n",
        "           'atoms': ch.simple_formula_parser('C7H16'),\n",
        "           'MW': ch.molecular_weight(ch.simple_formula_parser('C7H16')),\n",
        "           'y_air': 0,\n",
        "           'y_fuel': 0.,\n",
        "           }\n",
        "\n",
        "n_octane = {'name': 'n-octane',\n",
        "           'CAS' : '111-65-9',\n",
        "           'atoms': ch.simple_formula_parser('C8H18'),\n",
        "           'MW': ch.molecular_weight(ch.simple_formula_parser('C8H18')),\n",
        "           'y_air': 0,\n",
        "           'y_fuel': 0.,\n",
        "           }\n",
        "\n",
        "n_nonane = {'name': 'n-nonane',\n",
        "           'CAS' : '111-84-2',\n",
        "           'atoms': ch.simple_formula_parser('C9H20'),\n",
        "           'MW': ch.molecular_weight(ch.simple_formula_parser('C9H20')),\n",
        "           'y_air': 0,\n",
        "           'y_fuel': 0.,\n",
        "           }\n",
        "\n",
        "n_decane = {'name': 'n-decane',\n",
        "           'CAS' : '124-18-5',\n",
        "           'atoms': ch.simple_formula_parser('C10H22'),\n",
        "           'MW': ch.molecular_weight(ch.simple_formula_parser('C10H22')),\n",
        "           'y_air': 0,\n",
        "           'y_fuel': 0.,\n",
        "           }\n",
        "\n",
        "i_butane = {'name': '2-methylpropane / i-butane',\n",
        "           'CAS' : '75-28-5',\n",
        "           'atoms': ch.simple_formula_parser('C4H10'),\n",
        "           'MW': ch.molecular_weight(ch.simple_formula_parser('C4H10')),\n",
        "           'y_air': 0,\n",
        "           'y_fuel': 0.,\n",
        "           }\n",
        "\n",
        "i_pentane = {'name': '2-methylbutane / i-pentane',\n",
        "           'CAS' : '78-78-4',\n",
        "           'atoms': ch.simple_formula_parser('C5H12'),\n",
        "           'MW': ch.molecular_weight(ch.simple_formula_parser('C5H12')),\n",
        "           'y_air': 0,\n",
        "           'y_fuel': 0.,\n",
        "           }\n",
        "\n",
        "ethylene = {'name': 'ethylene / ethene',\n",
        "           'CAS' : '74-85-1',\n",
        "           'atoms': ch.simple_formula_parser('C2H4'),\n",
        "           'MW': ch.molecular_weight(ch.simple_formula_parser('C2H4')),\n",
        "           'y_air': 0,\n",
        "           'y_fuel': 0.,\n",
        "           }\n",
        "\n",
        "propylene = {'name': 'propylene / propene',\n",
        "           'CAS' : '115-07-1',\n",
        "           'atoms': ch.simple_formula_parser('C3H6'),\n",
        "           'MW': ch.molecular_weight(ch.simple_formula_parser('C3H6')),\n",
        "           'y_air': 0,\n",
        "           'y_fuel': 0.,\n",
        "           }\n",
        "\n",
        "_1_butylene = {'name': '1-butylene / 1-butene',\n",
        "           'CAS' : '106-98-9',\n",
        "           'atoms': ch.simple_formula_parser('C4H8'),\n",
        "           'MW': ch.molecular_weight(ch.simple_formula_parser('C4H8')),\n",
        "           'y_air': 0,\n",
        "           'y_fuel': 0.,\n",
        "           }\n",
        "\n",
        "cis_2_butylene = {'name': 'cis-2-butylene / cis-2-butene',\n",
        "           'CAS' : '590-18-1',\n",
        "           'atoms': ch.simple_formula_parser('C4H8'),\n",
        "           'MW': ch.molecular_weight(ch.simple_formula_parser('C4H8')),\n",
        "           'y_air': 0,\n",
        "           'y_fuel': 0.,\n",
        "           }\n",
        "\n",
        "trans_2_butylene = {'name': 'trans-2-butylene / trans-2-butene',\n",
        "           'CAS' : '624-64-6',\n",
        "           'atoms': ch.simple_formula_parser('C4H8'),\n",
        "           'MW': ch.molecular_weight(ch.simple_formula_parser('C4H8')),\n",
        "           'y_air': 0,\n",
        "           'y_fuel': 0.,\n",
        "           }\n",
        "\n",
        "i_butylene = {'name': 'i-butylene / i-butene',\n",
        "           'CAS' : '115-11-7',\n",
        "           'atoms': ch.simple_formula_parser('C4H8'),\n",
        "           'MW': ch.molecular_weight(ch.simple_formula_parser('C4H8')),\n",
        "           'y_air': 0,\n",
        "           'y_fuel': 0.,\n",
        "           }\n",
        "\n",
        "_1_pentene = {'name': '1-pentene',\n",
        "           'CAS' : '109-67-1',\n",
        "           'atoms': ch.simple_formula_parser('C5H10'),\n",
        "           'MW': ch.molecular_weight(ch.simple_formula_parser('C5H10')),\n",
        "           'y_air': 0,\n",
        "           'y_fuel': 0.,\n",
        "           }\n",
        "\n",
        "carbon_monoxide = {'name': 'carbon monoxide',\n",
        "           'CAS' : '630-08-0',\n",
        "           'atoms': ch.simple_formula_parser('CO'),\n",
        "           'MW': ch.molecular_weight(ch.simple_formula_parser('CO')),\n",
        "           'y_air': 0,\n",
        "           'y_fuel': 0.,\n",
        "           }\n",
        "\n",
        "hydrogen = {'name': 'hydrogen',\n",
        "           'CAS' : '1333-74-0',\n",
        "           'atoms': ch.simple_formula_parser('H2'),\n",
        "           'MW': ch.molecular_weight(ch.simple_formula_parser('H2')),\n",
        "           'y_air': 0,\n",
        "           'y_fuel': 0.,\n",
        "           }\n",
        "\n",
        "substances = [nitrogen,\n",
        "              oxygen,\n",
        "              water,\n",
        "              carbon_dioxide,\n",
        "              methane,\n",
        "              ethane,\n",
        "              propane,\n",
        "              n_butane,\n",
        "              n_pentane,\n",
        "              n_hexane,\n",
        "              n_heptane,\n",
        "              n_octane,\n",
        "              n_nonane,\n",
        "              n_decane,\n",
        "              i_butane,\n",
        "              i_pentane,\n",
        "              ethylene,\n",
        "              propylene,\n",
        "              _1_butylene,\n",
        "              cis_2_butylene,\n",
        "              trans_2_butylene,\n",
        "              i_butylene,\n",
        "              _1_pentene,\n",
        "              carbon_monoxide,\n",
        "              hydrogen]\n",
        "\n",
        "names = [substances[i]['name'] for i in range(len(substances))]\n",
        "MW = [substances[i]['MW'] for i in range(len(substances))]\n",
        "CAS = [substances[i]['CAS'] for i in range(len(substances))]\n",
        "atoms = [substances[i]['atoms'] for i in range(len(substances))]\n",
        "zs_air = [substances[i]['y_air'] for i in range(len(substances))]\n",
        "zs_fuel = [substances[i]['y_fuel'] for i in range(len(substances))]"
      ],
      "metadata": {
        "id": "PPFga0nMNYu8"
      },
      "execution_count": null,
      "outputs": []
    },
    {
      "cell_type": "markdown",
      "source": [
        "Para concluir la carga de datos, debemos dar o bien variables intensivas, o bien variables extensivas. Elegimos el caudal de combustible y el exceso de aire utilizado."
      ],
      "metadata": {
        "id": "uO_5Yegc1Q8Z"
      }
    },
    {
      "cell_type": "code",
      "source": [
        "n_fuel = 1.0     #Caudal molar en mol/s. Podemos cambiar la base para ponerlo en kg.\n",
        "O2_excess = 4#0.18  #Exceso de aire."
      ],
      "metadata": {
        "id": "04QHLnFT1RMc"
      },
      "execution_count": null,
      "outputs": []
    },
    {
      "cell_type": "markdown",
      "source": [
        "# *Resolvedor*"
      ],
      "metadata": {
        "id": "OXjrIC0l9iAZ"
      }
    },
    {
      "cell_type": "markdown",
      "source": [
        "Ejecutamos la resolución."
      ],
      "metadata": {
        "id": "KWcb425I2QQT"
      }
    },
    {
      "cell_type": "code",
      "source": [
        "ans = ch.fuel_air_spec_solver(zs_air = zs_air,\n",
        "                              zs_fuel = zs_fuel,\n",
        "                              CASs = CAS,\n",
        "                              atomss = atoms,\n",
        "                              n_fuel = n_fuel,\n",
        "                              O2_excess = O2_excess)\n",
        "\n",
        "MW_air = np.dot(np.array(MW), np.array(zs_air))\n",
        "MW_fuel = np.dot(np.array(MW), np.array(zs_fuel))\n",
        "MW_gases = np.dot(np.array(MW), np.array(ans['zs_out']))"
      ],
      "metadata": {
        "id": "5h9fANqxjWvL"
      },
      "execution_count": null,
      "outputs": []
    },
    {
      "cell_type": "markdown",
      "source": [
        "# *Resultados*"
      ],
      "metadata": {
        "id": "6dwg7tYf9Phd"
      }
    },
    {
      "cell_type": "markdown",
      "source": [
        "Las zs son las fracciones molares de los gases de combustión (en base húmeda). Usa el orden que establecimos más arriba.\n",
        "```\n",
        "zs_gases = [nitrogen,\n",
        "            oxygen,\n",
        "            water,\n",
        "            carbon_dioxide,\n",
        "            methane,\n",
        "            ethane,\n",
        "            propane,\n",
        "            n_butane,\n",
        "            n_pentane,\n",
        "            n_hexane,\n",
        "            n_heptane,\n",
        "            n_octane,\n",
        "            n_nonane,\n",
        "            n_decane,\n",
        "            i_butane,\n",
        "            i_pentane,\n",
        "            ethylene,\n",
        "            propylene,\n",
        "            _1_butylene,\n",
        "            cis_2_butylene,\n",
        "            trans_2_butylene,\n",
        "            i_butylene,\n",
        "            _1_pentene,\n",
        "            carbon_monoxide,\n",
        "            hydrogen]\n",
        "```"
      ],
      "metadata": {
        "id": "gqhWXAFl2XMp"
      }
    },
    {
      "cell_type": "code",
      "source": [
        "[round(i, 5) for i in ans['zs_out']] #Redondeamos las fracciones molares de los gases de combustión."
      ],
      "metadata": {
        "id": "XB0rYi30jRN6",
        "outputId": "fa443aab-89e1-45b8-c304-5649b764473d",
        "colab": {
          "base_uri": "https://localhost:8080/"
        }
      },
      "execution_count": null,
      "outputs": [
        {
          "output_type": "execute_result",
          "data": {
            "text/plain": [
              "[0.77419,\n",
              " 0.16449,\n",
              " 0.0403,\n",
              " 0.02102,\n",
              " 0.0,\n",
              " 0.0,\n",
              " 0.0,\n",
              " 0.0,\n",
              " 0.0,\n",
              " 0.0,\n",
              " 0.0,\n",
              " 0.0,\n",
              " 0.0,\n",
              " 0.0,\n",
              " 0.0,\n",
              " 0.0,\n",
              " 0.0,\n",
              " 0.0,\n",
              " 0.0,\n",
              " 0.0,\n",
              " 0.0,\n",
              " 0.0,\n",
              " 0.0,\n",
              " 0.0,\n",
              " 0.0]"
            ]
          },
          "metadata": {},
          "execution_count": 6
        }
      ]
    },
    {
      "cell_type": "markdown",
      "source": [
        "Obtenemos la fracción molar del oxígeno en los gases de combustión, tanto en base húmeda como en base seca."
      ],
      "metadata": {
        "id": "636Ba6mu7uwa"
      }
    },
    {
      "cell_type": "code",
      "source": [
        "round(ans['frac_out_O2'],5), round(ans['frac_out_O2_dry'],5)"
      ],
      "metadata": {
        "id": "xNd63F-ijTP5",
        "outputId": "680aa7ec-5a26-45b0-e642-c6ce4680ed40",
        "colab": {
          "base_uri": "https://localhost:8080/"
        }
      },
      "execution_count": null,
      "outputs": [
        {
          "output_type": "execute_result",
          "data": {
            "text/plain": [
              "(0.16449, 0.1714)"
            ]
          },
          "metadata": {},
          "execution_count": 7
        }
      ]
    },
    {
      "cell_type": "markdown",
      "source": [
        "Obtenemos el caudal molar de aire necesario para realizar la combustión completa del caudal molar de combustible ingresado. Misma unidad que para este."
      ],
      "metadata": {
        "id": "mLv2gcUc8G7x"
      }
    },
    {
      "cell_type": "code",
      "source": [
        "ans['n_air']"
      ],
      "metadata": {
        "id": "zMJNLDye3_9X",
        "outputId": "11c6cbe0-1d04-42c4-f6a5-fa6317f9eddf",
        "colab": {
          "base_uri": "https://localhost:8080/"
        }
      },
      "execution_count": null,
      "outputs": [
        {
          "output_type": "execute_result",
          "data": {
            "text/plain": [
              "48.78690476190477"
            ]
          },
          "metadata": {},
          "execution_count": 8
        }
      ]
    },
    {
      "cell_type": "markdown",
      "source": [
        "Obtenemos el caudal molar de los gases de combustión húmedos. Misma unidad que para el caudal molar de combustible ingresado."
      ],
      "metadata": {
        "id": "2E26Khx28XfV"
      }
    },
    {
      "cell_type": "code",
      "source": [
        "[round(i, 5) for i in ans['ns_out']]"
      ],
      "metadata": {
        "id": "UcoLHL7F4J2G",
        "outputId": "08299850-520b-40bb-cade-3a0e0bf323c1",
        "colab": {
          "base_uri": "https://localhost:8080/"
        }
      },
      "execution_count": null,
      "outputs": [
        {
          "output_type": "execute_result",
          "data": {
            "text/plain": [
              "[38.57585,\n",
              " 8.1962,\n",
              " 2.0083,\n",
              " 1.0473,\n",
              " 0.0,\n",
              " 0.0,\n",
              " 0.0,\n",
              " 0.0,\n",
              " 0.0,\n",
              " 0.0,\n",
              " 0.0,\n",
              " 0.0,\n",
              " 0.0,\n",
              " 0.0,\n",
              " 0.0,\n",
              " 0.0,\n",
              " 0.0,\n",
              " 0.0,\n",
              " 0.0,\n",
              " 0.0,\n",
              " 0.0,\n",
              " 0.0,\n",
              " 0.0,\n",
              " 0.0,\n",
              " 0.0]"
            ]
          },
          "metadata": {},
          "execution_count": 9
        }
      ]
    },
    {
      "cell_type": "markdown",
      "source": [
        "Obtenemos las masas molares del aire, del combustible y de los gases húmedos. En [kg/kmol]."
      ],
      "metadata": {
        "id": "Kr8pM6VZW_cj"
      }
    },
    {
      "cell_type": "code",
      "source": [
        "round(MW_air,2), round(MW_fuel,2), round(MW_gases,2)"
      ],
      "metadata": {
        "id": "rHVqUxRzVNL1",
        "outputId": "31f7d8b3-79c5-4ed4-dce6-12fae72a77cc",
        "colab": {
          "base_uri": "https://localhost:8080/"
        }
      },
      "execution_count": null,
      "outputs": [
        {
          "output_type": "execute_result",
          "data": {
            "text/plain": [
              "(28.85, 17.66, 28.6)"
            ]
          },
          "metadata": {},
          "execution_count": 10
        }
      ]
    }
  ]
}