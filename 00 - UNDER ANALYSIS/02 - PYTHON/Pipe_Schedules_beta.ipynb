{
  "nbformat": 4,
  "nbformat_minor": 0,
  "metadata": {
    "colab": {
      "provenance": [],
      "authorship_tag": "ABX9TyPEyXG8I5UC+HHSBaG08zed"
    },
    "kernelspec": {
      "name": "python3",
      "display_name": "Python 3"
    },
    "language_info": {
      "name": "python"
    }
  },
  "cells": [
    {
      "cell_type": "markdown",
      "source": [
        "# **Pipe Schedule**"
      ],
      "metadata": {
        "id": "k-xj0eIpNm-i"
      }
    },
    {
      "cell_type": "markdown",
      "source": [
        "Resolvedor para combustión completa, obtenido de [link text](https://chemicals.readthedocs.io/chemicals.combustion.html#heat-of-combustion-and-stiochiometry).\n",
        "\n",
        "\n",
        "---\n",
        "\n"
      ],
      "metadata": {
        "id": "mwyjzFZ8fgle"
      }
    },
    {
      "cell_type": "markdown",
      "source": [
        "# *Importación de librerías*\n"
      ],
      "metadata": {
        "id": "JT9mjXwu9ya7"
      }
    },
    {
      "cell_type": "markdown",
      "source": [
        "En primer lugar, con !pip instalamos los paquetes si Colab no los toma. Luego, debemos importar la librería chemicals, y lo hacemos con un alias. La librería cirpy la importamos sin alias."
      ],
      "metadata": {
        "id": "1cCYKyq7-DWO"
      }
    },
    {
      "cell_type": "code",
      "execution_count": 1,
      "metadata": {
        "id": "By_uern-DsdG",
        "outputId": "645d0505-4c53-498b-e8be-3fb31643ca46",
        "colab": {
          "base_uri": "https://localhost:8080/"
        }
      },
      "outputs": [
        {
          "output_type": "stream",
          "name": "stdout",
          "text": [
            "Collecting fluids\n",
            "  Downloading fluids-1.0.25-py3-none-any.whl (1.5 MB)\n",
            "\u001b[?25l     \u001b[90m━━━━━━━━━━━━━━━━━━━━━━━━━━━━━━━━━━━━━━━━\u001b[0m \u001b[32m0.0/1.5 MB\u001b[0m \u001b[31m?\u001b[0m eta \u001b[36m-:--:--\u001b[0m\r\u001b[2K     \u001b[91m━━━\u001b[0m\u001b[91m╸\u001b[0m\u001b[90m━━━━━━━━━━━━━━━━━━━━━━━━━━━━━━━━━━━━\u001b[0m \u001b[32m0.1/1.5 MB\u001b[0m \u001b[31m4.1 MB/s\u001b[0m eta \u001b[36m0:00:01\u001b[0m\r\u001b[2K     \u001b[91m━━━━━━━━━━━━━━━━━━━━━━━━━━━━━━━━━━━━━━━\u001b[0m\u001b[91m╸\u001b[0m \u001b[32m1.5/1.5 MB\u001b[0m \u001b[31m25.2 MB/s\u001b[0m eta \u001b[36m0:00:01\u001b[0m\r\u001b[2K     \u001b[90m━━━━━━━━━━━━━━━━━━━━━━━━━━━━━━━━━━━━━━━━\u001b[0m \u001b[32m1.5/1.5 MB\u001b[0m \u001b[31m19.9 MB/s\u001b[0m eta \u001b[36m0:00:00\u001b[0m\n",
            "\u001b[?25hRequirement already satisfied: numpy>=1.5.0 in /usr/local/lib/python3.10/dist-packages (from fluids) (1.23.5)\n",
            "Requirement already satisfied: scipy>=0.9.0 in /usr/local/lib/python3.10/dist-packages (from fluids) (1.11.3)\n",
            "Installing collected packages: fluids\n",
            "Successfully installed fluids-1.0.25\n"
          ]
        }
      ],
      "source": [
        "!pip install fluids\n",
        "import fluids as fluids"
      ]
    },
    {
      "cell_type": "markdown",
      "source": [
        "# *Ingreso de datos*"
      ],
      "metadata": {
        "id": "MxkFLDA79Yjn"
      }
    },
    {
      "cell_type": "code",
      "source": [
        "NPS = 14\n",
        "SCH = '40'\n",
        "\n",
        "NPS, Di, Do, t = fluids.nearest_pipe(NPS=NPS, schedule=SCH)\n",
        "\n",
        "print('Do='+str(Do*1000)+' mm')\n",
        "\n",
        "#ASME/ANSI pipe tables from B36.10M-2004 and B36-19M-2004 are implemented in fluids.piping.\n",
        "\n",
        "#Piping can be looked up based on nominal pipe size, outer diameter, or inner diameter with the nearest_pipe function.\n",
        "\n",
        "#https://fluids.readthedocs.io/tutorial.html#pipe-schedules\n",
        "\n",
        "#When looking up by actual diameter, the nearest pipe as large or larger then requested is returned:\n",
        "\n",
        "#nearest_pipe(Do=0.5, schedule='40S')\n",
        "\n",
        "#By default, the pipe schedule used for the lookup is schedule 40. Other schedules that\n",
        "#are available are: ‘5’, ‘10’, ‘20’, ‘30’, ‘40’, ‘60’, ‘80’, ‘100’, ‘120’, ‘140’, ‘160’, ‘STD’, ‘XS’, ‘XXS’, ‘5S’, ‘10S’, ‘40S’, ‘80S’.\n",
        "\n",
        "\n",
        "#If a diameter which is larger than any pipe in the schedule is input, an exception is raised:\n",
        "\n",
        "\n",
        "\n"
      ],
      "metadata": {
        "id": "PPFga0nMNYu8",
        "colab": {
          "base_uri": "https://localhost:8080/"
        },
        "outputId": "552a9588-e59f-4d9b-be12-61311e6fef22"
      },
      "execution_count": 2,
      "outputs": [
        {
          "output_type": "stream",
          "name": "stdout",
          "text": [
            "Do=355.6 mm\n"
          ]
        }
      ]
    }
  ]
}