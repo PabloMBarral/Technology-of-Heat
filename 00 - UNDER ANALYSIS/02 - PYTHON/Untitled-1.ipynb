{
 "cells": [
  {
   "cell_type": "code",
   "execution_count": 7,
   "metadata": {},
   "outputs": [],
   "source": [
    "from math import *\n",
    "from fluids.units import *\n",
    "from thermo.units import Stream"
   ]
  },
  {
   "cell_type": "code",
   "execution_count": 8,
   "metadata": {},
   "outputs": [],
   "source": [
    "### Definimos los parámetros del vapor ###\n",
    "\n",
    "m = 40000 * u.kg / u.hr\n",
    "T = 450 * u.degC\n",
    "P = 40 * u.bar\n",
    "\n",
    "steam = Stream('water', T = T, P = P, m = m)\n",
    "\n",
    "rho = steam.rho\n",
    "mu = steam.mu"
   ]
  },
  {
   "cell_type": "code",
   "execution_count": 9,
   "metadata": {},
   "outputs": [],
   "source": [
    "### Definimos las características del piping ###\n",
    "\n",
    "L = 120 * u.m\n",
    "NPS, D_pipe, Do_pipe, t = nearest_pipe(Do = 150 * u.mm, schedule = '80')"
   ]
  },
  {
   "cell_type": "code",
   "execution_count": 10,
   "metadata": {},
   "outputs": [],
   "source": [
    "### Calculamos los parámetros de flujo ###\n",
    "\n",
    "V = m / rho\n",
    "\n",
    "V = V / (pi / 4 * D_pipe**2)\n",
    "\n",
    "Re = Reynolds(rho = rho, mu = mu, D = D_pipe, V = V)\n",
    "\n",
    "f = friction_factor(Re = Re, eD = 0.0018 * u.inch / D_pipe)"
   ]
  },
  {
   "cell_type": "code",
   "execution_count": 11,
   "metadata": {},
   "outputs": [],
   "source": [
    "### Coeficientes de pérdida ###\n",
    "\n",
    "K_1 = 1\n",
    "K_2 = 2\n",
    "\n",
    "K_elbow = bend_rounded(Di = D_pipe, angle = 90 * u.degrees, fd = f, bend_diameters = 1.5)\n",
    "\n",
    "K_friction = K_from_f(fd=f, L=L, D=D_pipe)\n",
    "\n",
    "K_tot = K_1 + K_2 + K_elbow + K_friction"
   ]
  },
  {
   "cell_type": "code",
   "execution_count": 12,
   "metadata": {},
   "outputs": [
    {
     "name": "stdout",
     "output_type": "stream",
     "text": [
      "Pressure drop = 2.86 bar\n"
     ]
    }
   ],
   "source": [
    "### Cálculo de la pérdida de carga y presentación de resultado ### \n",
    "\n",
    "dP = dP_from_K(K=K_tot, rho=rho, V=V)\n",
    "\n",
    "print('Pressure drop = {:.2f}'.format(dP.to(u.bar)))"
   ]
  }
 ],
 "metadata": {
  "kernelspec": {
   "display_name": "Python 3",
   "language": "python",
   "name": "python3"
  },
  "language_info": {
   "codemirror_mode": {
    "name": "ipython",
    "version": 3
   },
   "file_extension": ".py",
   "mimetype": "text/x-python",
   "name": "python",
   "nbconvert_exporter": "python",
   "pygments_lexer": "ipython3",
   "version": "3.10.12"
  }
 },
 "nbformat": 4,
 "nbformat_minor": 2
}
