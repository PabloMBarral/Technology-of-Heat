{
 "cells": [
  {
   "cell_type": "markdown",
   "id": "612d5c31-d6c6-4f1d-a44c-9ba605e42c68",
   "metadata": {},
   "source": [
    "# LATITUD Y LONGITUD"
   ]
  },
  {
   "cell_type": "markdown",
   "id": "b6349253-20c4-425b-adac-bd0698af9162",
   "metadata": {},
   "source": [
    "En primer lugar, importamos el paquete que necesitamos:"
   ]
  },
  {
   "cell_type": "code",
   "execution_count": 1,
   "id": "3c912998-d820-491d-98c6-a21859c68359",
   "metadata": {},
   "outputs": [],
   "source": [
    "from geopy.geocoders import Nominatim"
   ]
  },
  {
   "cell_type": "markdown",
   "id": "2a88c020-f51b-4fba-965e-69d6caf86895",
   "metadata": {},
   "source": [
    "Creamos un objeto geocoder de Nominatim:"
   ]
  },
  {
   "cell_type": "code",
   "execution_count": 2,
   "id": "33c3af28-0e29-49ca-b4f5-1f8465b0e4c3",
   "metadata": {},
   "outputs": [],
   "source": [
    "geolocator = Nominatim(user_agent=\"my-app\")"
   ]
  },
  {
   "cell_type": "markdown",
   "id": "34e397fa-8b8c-4346-88d0-fd81b495017e",
   "metadata": {},
   "source": [
    "Indicamos la ciudad que necesitamos:"
   ]
  },
  {
   "cell_type": "code",
   "execution_count": 3,
   "id": "722921fe-53b1-4a34-9fe3-0b50b08b99d6",
   "metadata": {},
   "outputs": [],
   "source": [
    "ciudad = \"Buenos Aires\""
   ]
  },
  {
   "cell_type": "markdown",
   "id": "790da82d-8598-470d-a906-7a8c805b7731",
   "metadata": {},
   "source": [
    "Creamos el objeto que necesitamos, a partir del objeto inicial:"
   ]
  },
  {
   "cell_type": "code",
   "execution_count": 4,
   "id": "b19c4992-82a2-4216-81e0-2ee9fd90a505",
   "metadata": {},
   "outputs": [],
   "source": [
    "ubicacion = geolocator.geocode(ciudad)"
   ]
  },
  {
   "cell_type": "markdown",
   "id": "c7fd0a77-2981-4d41-a413-e43511285fd4",
   "metadata": {},
   "source": [
    "Ahora sí, esta ubicación tiene las propiedades que buscamos:"
   ]
  },
  {
   "cell_type": "code",
   "execution_count": 5,
   "id": "2165fb87-c261-4b21-b0a0-dadf4df0b880",
   "metadata": {},
   "outputs": [],
   "source": [
    "latitud = ubicacion.latitude\n",
    "longitud = ubicacion.longitude"
   ]
  },
  {
   "cell_type": "code",
   "execution_count": 6,
   "id": "fa4ce6e7-1e4e-461a-ba0c-d6dc9d709694",
   "metadata": {},
   "outputs": [
    {
     "name": "stdout",
     "output_type": "stream",
     "text": [
      "-34.6075682\n"
     ]
    }
   ],
   "source": [
    "print(latitud)"
   ]
  },
  {
   "cell_type": "code",
   "execution_count": 7,
   "id": "e7ca52c3-ec76-444f-8e31-5bd1ca2b62db",
   "metadata": {},
   "outputs": [
    {
     "name": "stdout",
     "output_type": "stream",
     "text": [
      "-58.4370894\n"
     ]
    }
   ],
   "source": [
    "print(longitud)"
   ]
  },
  {
   "cell_type": "markdown",
   "id": "195c647e-e2b8-4991-a421-6879822c3c27",
   "metadata": {},
   "source": [
    "Fuente: https://geopy.readthedocs.io/en/stable/#accessing-geocoders"
   ]
  },
  {
   "cell_type": "code",
   "execution_count": null,
   "id": "d2081fec-80c4-4444-b3d7-c7cbaebd9007",
   "metadata": {},
   "outputs": [],
   "source": []
  }
 ],
 "metadata": {
  "kernelspec": {
   "display_name": "Python 3 (ipykernel)",
   "language": "python",
   "name": "python3"
  },
  "language_info": {
   "codemirror_mode": {
    "name": "ipython",
    "version": 3
   },
   "file_extension": ".py",
   "mimetype": "text/x-python",
   "name": "python",
   "nbconvert_exporter": "python",
   "pygments_lexer": "ipython3",
   "version": "3.11.4"
  }
 },
 "nbformat": 4,
 "nbformat_minor": 5
}
